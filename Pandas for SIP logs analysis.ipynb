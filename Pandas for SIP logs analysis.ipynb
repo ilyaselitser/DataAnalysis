{
 "cells": [
  {
   "cell_type": "code",
   "execution_count": 1,
   "metadata": {
    "collapsed": true
   },
   "outputs": [],
   "source": [
    "import collections\n",
    "import os\n",
    "import pathlib\n",
    "import pickle\n",
    "import pandas as pd\n",
    "import numpy as np\n",
    "import seaborn as sns\n",
    "import matplotlib.pyplot as plt\n",
    "%matplotlib inline"
   ]
  },
  {
   "cell_type": "code",
   "execution_count": 2,
   "metadata": {
    "collapsed": true
   },
   "outputs": [],
   "source": [
    "log_files_directory = 'SIP_logs/'\n",
    "sip_messages_list_pickle = 'SIP_logs/pickle.dat'\n",
    "rx_tx_req_resp = ['Rx<-', 'Tx->']\n",
    "sip_msg = '*****SIP message*****\\n'\n",
    "sip_messages_delimiter = '_________________________________________\\n'\n",
    "sip_20 = 'SIP/2.0 '\n",
    "callid = ['call-id:', 'i:'] # Full version (converted to lowercase) and compact version of Call-ID \n",
    "cseq = ['cseq:'] #CSeq converted to lowercase\n",
    "sip_df_columns = ['Timestamp', 'Call-ID', 'CSeq_num', 'CSeq_meth',\n",
    "                  'Direction', 'SIP method', 'Src Dst IP']"
   ]
  },
  {
   "cell_type": "code",
   "execution_count": 3,
   "metadata": {
    "collapsed": true
   },
   "outputs": [],
   "source": [
    "########################################################################################################\n",
    "\n",
    "### Create SIP messages list from large text log file\n",
    "### Save the file to pickle\n",
    "### Full list is necessary for further extraction of\n",
    "### different SIP header lines\n",
    "\n",
    "def sip_messages_list(log_files_directory, sip_messages_list_pickle):\n",
    "    \n",
    "    # Delete the pickle file if exists\n",
    "    try:\n",
    "        os.remove(sip_messages_list_pickle)\n",
    "    except OSError:\n",
    "        pass\n",
    "    \n",
    "    def find_file_number(log_files_unsorted):\n",
    "        l = []\n",
    "        for s in log_files_unsorted:\n",
    "            l.append(int(s.split('_', 2)[2].split('.')[0]))\n",
    "\n",
    "        filenames_dict = dict(zip(l, log_files_unsorted))\n",
    "        return filenames_dict\n",
    "    \n",
    "    # Create ordered dictionary, keys = numbers in SIP log filename, filenames - values\n",
    "    lf_dir = pathlib.Path(log_files_directory)\n",
    "    lf_unsorted_list = [str(p) for p in lf_dir.iterdir() if p.is_file()]\n",
    "    filenames_dict = find_file_number(lf_unsorted_list)\n",
    "    lf_sorted_dict = collections.OrderedDict(sorted(filenames_dict.items()))\n",
    "    \n",
    "    sip_messages_list = []\n",
    "        \n",
    "    for log_file in lf_sorted_dict.values():\n",
    "        \n",
    "        single_message_dict = {}\n",
    "        single_message_list = []\n",
    "        d = False\n",
    "        \n",
    "        # Read large text file line by line\n",
    "        with open(log_file, 'r', errors='ignore') as input_file:\n",
    "\n",
    "            for line in input_file:\n",
    "                k = line.split('|')[1]\n",
    "                s = line.split('|')[4]\n",
    "\n",
    "                # Ignore the first delimiter\n",
    "                if s == sip_msg:\n",
    "                    continue\n",
    "\n",
    "                elif s.split(' ')[0] in rx_tx_req_resp:\n",
    "                    # Next lines a SIP message lines\n",
    "                    single_message_list.append(line.split('|')[4].split('\\n')[0])\n",
    "                    # All the next lines until the delimiter are SIP message lines\n",
    "                    d = True\n",
    "\n",
    "                elif (s not in sip_messages_delimiter) & (d is True):\n",
    "                    # The line is not the delimiter, it's a part of a SIP message\n",
    "                    # add the line to single_message_list\n",
    "                    single_message_list.append(s.split('\\n')[0])\n",
    "\n",
    "\n",
    "                elif (s not in sip_messages_delimiter) & (d is False):\n",
    "                    continue\n",
    "\n",
    "                elif (s in sip_messages_delimiter) & (d is True):\n",
    "\n",
    "                    # Delimiter indicates the end of single SIP message\n",
    "                    # Add the message to single_message_dict\n",
    "                    single_message_dict[k] =  single_message_list\n",
    "                    sip_messages_list.append(single_message_dict)\n",
    "\n",
    "                    # Clear single_message_list, single_message_dict \n",
    "                    single_message_list = []\n",
    "                    single_message_dict = {}\n",
    "                    d = False\n",
    "\n",
    "                else:\n",
    "                    continue\n",
    "            # Dump sip_messages_list to pickle\n",
    "            with open(sip_messages_list_pickle, \"wb\") as f:\n",
    "                pickle.dump(sip_messages_list, f)\n",
    "\n",
    "########################################################################################################\n",
    "\n",
    "### Extract year-month-day from log file names\n",
    "\n",
    "def ymd_from_filenames(log_files_directory):\n",
    "    lf_dir = pathlib.Path(log_files_directory)\n",
    "    lf = [p for p in lf_dir.iterdir() if p.is_file()]\n",
    "    log_files = [q for q in lf if 'SIP_' in str(q)]\n",
    "    log_files = [str(r).split('_')[1] for r in log_files]\n",
    "    if len(set(log_files)) > 1:\n",
    "        print('Multiple Y-M-D combinations in log file names!!!')\n",
    "        return -1\n",
    "    else:\n",
    "        ymd = set(log_files).pop().split('-')\n",
    "        # Convert to str to int\n",
    "        ymd = list(map(int, ymd))\n",
    "    return ymd\n",
    "\n",
    "#######################################################################################################\n",
    "\n",
    "### Create SIP dataframe\n",
    "\n",
    "def sip_dataframe(sip_messages_list_pickle):\n",
    "    \n",
    "    row_list = []\n",
    "    # Read from the list saved to the pickle\n",
    "    with open(sip_messages_list_pickle, \"rb\") as sml_pickle:\n",
    "        for sm in pickle.load(sml_pickle):\n",
    "            for k, v in sm.items():\n",
    "                \n",
    "                # Extract direction - Rx or Tx\n",
    "                if 'Rx' in v[0].split(' ')[0]:\n",
    "                    direction = 'Rx'\n",
    "                else:\n",
    "                    direction = 'Tx'\n",
    "                    \n",
    "                src_dst_ip = v[0].split(' ')[3].split(':')[1]\n",
    "                \n",
    "                if sip_20 in v[2]:\n",
    "                    sip_meth = v[2].split(sip_20)[1]\n",
    "                else:\n",
    "                    sip_meth = v[2].split(' ')[0]\n",
    "                    \n",
    "                # Call-ID value ('Call-Id', 'Call-ID' etc are converted to lowercase)\n",
    "                cid = [s.split(' ')[1] for s in v if any(s.split(' ')[0].lower() in x\n",
    "                                                         for x in callid)]\n",
    "                \n",
    "                # CSeq number and method ('CSeq', 'Cseq' etc are converted to lowercase)\n",
    "                cs = [s for s in v if any(s.split(' ')[0].lower() in x for x in cseq)]\n",
    "                cseq_num = cs[0].split(' ')[1]\n",
    "                cseq_meth = cs[0].split(' ')[2]\n",
    "                \n",
    "                row_list.append([k, cid[0], cseq_num, cseq_meth,\n",
    "                                 direction, sip_meth, src_dst_ip])\n",
    "\n",
    "        df = pd.DataFrame(row_list)\n",
    "        df.columns = sip_df_columns        \n",
    "        df['Timestamp'] = pd.to_datetime(df['Timestamp'], format='%H:%M:%S.%f', utc=True)\n",
    "        \n",
    "        # Set year-month-day extracted from log file names\n",
    "        ymd = ymd_from_filenames(log_files_directory)\n",
    "        df['Timestamp'] = df['Timestamp'].apply(lambda x: x.replace(year=ymd[0],\n",
    "                                                                    month = ymd[1],\n",
    "                                                                    day = ymd[2]))\n",
    "    \n",
    "    return df\n",
    "\n",
    "########################################################################################################\n",
    "\n",
    "### Extract INVITE-200OK transactions \n",
    "def invite_200OK_trans(df):\n",
    "    inv_200OK_list = ['180 Ringing', '183 Session Progress', '202 Accepted',\n",
    "         '480 Temporarily Unavailable', '481 Call Leg/Transaction Does Not Exist',\n",
    "         '481 Call/Transaction Does Not Exist', '486 Busy Here',\n",
    "         '487 Request Cancelled', '487 Request Terminated', '503 Service Unavailable',\n",
    "         'CANCEL', 'INFO', 'NOTIFY', 'OPTIONS', 'REFER', 'UPDATE']\n",
    "    \n",
    "    df_new = df.set_index(['Call-ID', 'CSeq_num'])\n",
    "    index = pd.MultiIndex.from_product([[], []])\n",
    "    for i in inv_200OK_list:\n",
    "        index = index.append(df_new.index[df['SIP method'] == i])\n",
    "\n",
    "    df_inv_200OK = df_new.drop(index)\n",
    "    df_inv_200OK = df_inv_200OK[(df_inv_200OK['CSeq_meth'] == 'INVITE') & \n",
    "              ((df_inv_200OK['SIP method'] == 'INVITE') | \n",
    "               (df_inv_200OK['SIP method'] == '200 OK'))]\n",
    "    df_inv_200OK = df_inv_200OK.reset_index()\n",
    "    return df_inv_200OK\n",
    "\n",
    "##########################################################################################################\n",
    "\n",
    "### Extract INFO-200OK transactions\n",
    "def info_200OK_trans(df):\n",
    "    inf_200OK_list = ['180 Ringing', '183 Session Progress', '202 Accepted',\n",
    "         '480 Temporarily Unavailable', '481 Call Leg/Transaction Does Not Exist',\n",
    "         '481 Call/Transaction Does Not Exist', '486 Busy Here',\n",
    "         '487 Request Cancelled', '487 Request Terminated', '503 Service Unavailable',\n",
    "         'CANCEL', 'INVITE', 'NOTIFY', 'OPTIONS', 'REFER', 'UPDATE']\n",
    "    \n",
    "    df_new = df.set_index(['Call-ID', 'CSeq_num'])\n",
    "    index = pd.MultiIndex.from_product([[], []])\n",
    "    for i in inf_200OK_list:\n",
    "        index = index.append(df_new.index[df['SIP method'] == i])\n",
    "\n",
    "    df_inf200 = df_new.drop(index)\n",
    "    df_inf200 = df_inf200[(df_inf200['CSeq_meth'] == 'INFO') & \n",
    "              ((df_inf200['SIP method'] == 'INFO') | \n",
    "               (df_inf200['SIP method'] == '200 OK'))]\n",
    "    df_inf200 = df_inf200.reset_index()\n",
    "    return df_inf200\n",
    "\n",
    "##########################################################################################################\n",
    "\n",
    "### SIP dialog length values\n",
    "\n",
    "def sip_dialog_len(df):\n",
    "    \n",
    "    dfp = pd.pivot_table(df,index = ['Call-ID'], values = 'CSeq_num', aggfunc = 'count')\\\n",
    "    .sort_values(by = 'CSeq_num', ascending = False)\n",
    "    dfp = dfp.rename(index=str, columns={\"CSeq_num\": \"SIP dialog length\"})\n",
    "    return dfp\n",
    "\n",
    "##########################################################################################################\n",
    "\n",
    "### Calculate request-response time for transmitted INFO, INVITE messages\n",
    "\n",
    "def req_resp_time_tx(df, dialog_type):\n",
    "    \n",
    "    # Remove retransmitted requests\n",
    "    df = df.loc[df['SIP method'].shift() != df['SIP method']]\n",
    "    \n",
    "    # Add Req_Resp_Time column and fill it with 0 timedelta values\n",
    "    df = df.assign(Req_Resp_Time = np.timedelta64(0, 'ms'))\n",
    "    \n",
    "    sip_method = dialog_type.split('-')[0]\n",
    "    \n",
    "    if sip_method in ['INFO', 'INVITE']:\n",
    "        \n",
    "        df['Req_Resp_Time'] = df[(((df['SIP method'] == sip_method) & (df['Direction'] == 'Tx')) | \n",
    "                          ((df['SIP method'] == '200 OK') & (df['Direction'] == 'Rx')))].\\\n",
    "                                groupby(['Call-ID', 'CSeq_num', 'Src Dst IP'])['Timestamp'].diff()\n",
    "                \n",
    "        # Fill NaT cells\n",
    "        df['Req_Resp_Time'].fillna(value = np.timedelta64(0, 'ms'), inplace = True)\n",
    "\n",
    "        # Convert time diff to integer number of seconds\n",
    "        df['Req_Resp_Time'] = df['Req_Resp_Time'].apply(lambda x: int(x / np.timedelta64(1, 'ms')))\n",
    "\n",
    "        # Cut '000' from the end of timestamps, 'Timestamp' values converted to string\n",
    "        df['Timestamp'] = df['Timestamp'].apply(lambda x: x.strftime('%H:%M:%S.%f'))\n",
    "        df['Timestamp'] = df['Timestamp'].apply(lambda x: x[:-3])\n",
    "    \n",
    "        return df\n",
    "    else:\n",
    "        print('Incorrect dialog type!')\n",
    "        return -1\n",
    "\n",
    "##########################################################################################################\n",
    "\n",
    "### Calculate request-response time for received INFO requests\n",
    "\n",
    "def rx_info_tx_200OK_rrt(df):\n",
    "    dfw = df[((df['SIP method'] == 'INFO') &\n",
    "              (df['Direction'] == 'Rx')) |\n",
    "             ((df['SIP method'] == '200 OK') &\n",
    "              (df['Direction'] == 'Tx'))][['Timestamp', 'Call-ID', 'CSeq_num', 'SIP method']]\n",
    "\n",
    "    # Sorting is necessary since requests may be arbitrary mixed with responses \n",
    "    dfw.sort_values(by = ['Call-ID', 'CSeq_num'], inplace=True)\n",
    "\n",
    "    # Add request and response timestamps columns\n",
    "    dfw = dfw.assign(TS_Req = pd.NaT)\n",
    "    dfw = dfw.assign(TS_Resp = pd.NaT)\n",
    "\n",
    "    # Fill request timestamps columns with timestamps from Timestamps column\n",
    "    dfw.at[dfw[dfw['SIP method'] == 'INFO'].index, 'TS_Req'] = \\\n",
    "                dfw['Timestamp'].loc[dfw[dfw['SIP method'] == 'INFO'].index]\n",
    "\n",
    "    # Fill response timestamps column with timestamps from Timestamps column\n",
    "    dfw.at[dfw[dfw['SIP method'] == '200 OK'].index, 'TS_Resp'] = \\\n",
    "                dfw['Timestamp'].loc[dfw[dfw['SIP method'] == '200 OK'].index]\n",
    "\n",
    "    df_req = dfw[['Call-ID', 'CSeq_num', 'TS_Req']].dropna().reset_index()\n",
    "    df_resp = dfw[['Call-ID', 'CSeq_num', 'TS_Resp']].dropna().reset_index()\n",
    "\n",
    "    # Calculate request-response time difference\n",
    "    df_req['Req_Resp_Time'] = df_resp['TS_Resp'] - df_req['TS_Req']\n",
    "\n",
    "    df_req['Req_Resp_Time'] = df_req['Req_Resp_Time'].apply(lambda x: x/np.timedelta64(1, 'ms'))\n",
    "    # Call-ID and CSeq_num will be necessary for searching specific scenario in \n",
    "    # SIP AS log or in sip_df\n",
    "    df_req = df_req[['Call-ID', 'CSeq_num', 'Req_Resp_Time']]\n",
    "    \n",
    "    return df_req\n",
    "\n",
    "    \n",
    "##########################################################################################################\n",
    "\n",
    "### Count retransmits for sent SIP requests\n",
    "### df - DataFrame containing specific dialog, e.g. INFO-200 OK\n",
    "\n",
    "def retransmits_counter_tx(df, sip_method):\n",
    "    \n",
    "    dfx = df[(df['SIP method'] == sip_method) & \n",
    "               (df['Direction'] == 'Tx')].\\\n",
    "               groupby(['Call-ID', 'CSeq_num']).count()\n",
    "    df_rtr_tx = dfx[dfx['SIP method'] > 1]\n",
    "    df_rtr_tx.reset_index(inplace = True)\n",
    "    df_rtr_tx = df_rtr_tx.drop(['Timestamp', 'CSeq_meth',\n",
    "                    'Direction', 'SIP method', 'Src Dst IP'], axis = 1)\n",
    "    return df_rtr_tx\n",
    "\n",
    "##########################################################################################################\n",
    "\n",
    "### Calculate percentage of retransmissions\n",
    "\n",
    "def retransmissions_percentage(df_rtr, df):\n",
    "    p = round(100 * df_rtr.shape[0]/df.shape[0], 2)\n",
    "    return(str(p) + '%')\n",
    "\n",
    "##########################################################################################################\n",
    "\n",
    "### Countplot, logarythmic y-scale\n",
    "\n",
    "def plot_data(df, col_name, yscale):\n",
    "    \n",
    "    fig, ax = plt.subplots(figsize=(20,6))\n",
    "    ax.set(yscale = yscale)\n",
    "    g = sns.countplot(x = col_name,  data = df, ax=ax)\n",
    "    xticklabel = plt.setp(g.get_xticklabels(), rotation=90)\n",
    "    plt.show()\n",
    "    \n",
    "##########################################################################################################"
   ]
  },
  {
   "cell_type": "code",
   "execution_count": 4,
   "metadata": {},
   "outputs": [],
   "source": [
    "sip_messages_list(log_files_directory, sip_messages_list_pickle)"
   ]
  },
  {
   "cell_type": "code",
   "execution_count": 5,
   "metadata": {},
   "outputs": [],
   "source": [
    "sip_df = sip_dataframe(sip_messages_list_pickle)"
   ]
  },
  {
   "cell_type": "code",
   "execution_count": 6,
   "metadata": {},
   "outputs": [
    {
     "name": "stdout",
     "output_type": "stream",
     "text": [
      "<class 'pandas.core.frame.DataFrame'>\n",
      "RangeIndex: 3298511 entries, 0 to 3298510\n",
      "Data columns (total 7 columns):\n",
      "Timestamp     datetime64[ns]\n",
      "Call-ID       object\n",
      "CSeq_num      object\n",
      "CSeq_meth     object\n",
      "Direction     object\n",
      "SIP method    object\n",
      "Src Dst IP    object\n",
      "dtypes: datetime64[ns](1), object(6)\n",
      "memory usage: 176.2+ MB\n"
     ]
    }
   ],
   "source": [
    "sip_df.info()"
   ]
  },
  {
   "cell_type": "code",
   "execution_count": 7,
   "metadata": {},
   "outputs": [
    {
     "data": {
      "text/html": [
       "<div>\n",
       "<style>\n",
       "    .dataframe thead tr:only-child th {\n",
       "        text-align: right;\n",
       "    }\n",
       "\n",
       "    .dataframe thead th {\n",
       "        text-align: left;\n",
       "    }\n",
       "\n",
       "    .dataframe tbody tr th {\n",
       "        vertical-align: top;\n",
       "    }\n",
       "</style>\n",
       "<table border=\"1\" class=\"dataframe\">\n",
       "  <thead>\n",
       "    <tr style=\"text-align: right;\">\n",
       "      <th></th>\n",
       "      <th>Timestamp</th>\n",
       "      <th>Call-ID</th>\n",
       "      <th>CSeq_num</th>\n",
       "      <th>CSeq_meth</th>\n",
       "      <th>Direction</th>\n",
       "      <th>SIP method</th>\n",
       "      <th>Src Dst IP</th>\n",
       "    </tr>\n",
       "  </thead>\n",
       "  <tbody>\n",
       "    <tr>\n",
       "      <th>0</th>\n",
       "      <td>2019-01-08 10:00:00.108</td>\n",
       "      <td>EiyY7sjApLEzfEVw7utlkhquIS2o4T1N</td>\n",
       "      <td>31157</td>\n",
       "      <td>INVITE</td>\n",
       "      <td>Rx</td>\n",
       "      <td>INVITE</td>\n",
       "      <td>192.168.1.100</td>\n",
       "    </tr>\n",
       "    <tr>\n",
       "      <th>1</th>\n",
       "      <td>2019-01-08 10:00:00.110</td>\n",
       "      <td>EiyY7sjApLEzfEVw7utlkhquIS2o4T1N</td>\n",
       "      <td>31157</td>\n",
       "      <td>INVITE</td>\n",
       "      <td>Tx</td>\n",
       "      <td>100 Trying</td>\n",
       "      <td>192.168.1.100</td>\n",
       "    </tr>\n",
       "    <tr>\n",
       "      <th>2</th>\n",
       "      <td>2019-01-08 10:00:01.188</td>\n",
       "      <td>evA8XfoBsTcYtLURXJgmwjaSh57wIhkU</td>\n",
       "      <td>2375</td>\n",
       "      <td>INVITE</td>\n",
       "      <td>Tx</td>\n",
       "      <td>INVITE</td>\n",
       "      <td>192.168.1.101</td>\n",
       "    </tr>\n",
       "    <tr>\n",
       "      <th>3</th>\n",
       "      <td>2019-01-08 10:00:01.207</td>\n",
       "      <td>evA8XfoBsTcYtLURXJgmwjaSh57wIhkU</td>\n",
       "      <td>2375</td>\n",
       "      <td>INVITE</td>\n",
       "      <td>Rx</td>\n",
       "      <td>100 Trying</td>\n",
       "      <td>192.168.1.101</td>\n",
       "    </tr>\n",
       "    <tr>\n",
       "      <th>4</th>\n",
       "      <td>2019-01-08 10:00:01.207</td>\n",
       "      <td>evA8XfoBsTcYtLURXJgmwjaSh57wIhkU</td>\n",
       "      <td>2375</td>\n",
       "      <td>INVITE</td>\n",
       "      <td>Rx</td>\n",
       "      <td>200 OK</td>\n",
       "      <td>192.168.1.101</td>\n",
       "    </tr>\n",
       "  </tbody>\n",
       "</table>\n",
       "</div>"
      ],
      "text/plain": [
       "                Timestamp                           Call-ID CSeq_num  \\\n",
       "0 2019-01-08 10:00:00.108  fwHvHAiJ4SNAbFk9oPh9N6eM8jweAEfq    31157   \n",
       "1 2019-01-08 10:00:00.110  fwHvHAiJ4SNAbFk9oPh9N6eM8jweAEfq    31157   \n",
       "2 2019-01-08 10:00:01.188  evA8XfoBsTcYtLURXJgmwjaSh57wIhkU     2375   \n",
       "3 2019-01-08 10:00:01.207  evA8XfoBsTcYtLURXJgmwjaSh57wIhkU     2375   \n",
       "4 2019-01-08 10:00:01.207  evA8XfoBsTcYtLURXJgmwjaSh57wIhkU     2375   \n",
       "\n",
       "  CSeq_meth Direction  SIP method     Src Dst IP  \n",
       "0    INVITE        Rx      INVITE  192.168.1.100  \n",
       "1    INVITE        Tx  100 Trying  192.168.1.100  \n",
       "2    INVITE        Tx      INVITE  192.168.1.101  \n",
       "3    INVITE        Rx  100 Trying  192.168.1.101  \n",
       "4    INVITE        Rx      200 OK  192.168.1.101  "
      ]
     },
     "execution_count": 7,
     "metadata": {},
     "output_type": "execute_result"
    }
   ],
   "source": [
    "sip_df.head()"
   ]
  },
  {
   "cell_type": "code",
   "execution_count": 8,
   "metadata": {
    "collapsed": true
   },
   "outputs": [],
   "source": [
    "df_dialog_len = sip_dialog_len(sip_df)"
   ]
  },
  {
   "cell_type": "code",
   "execution_count": 9,
   "metadata": {},
   "outputs": [
    {
     "data": {
      "text/html": [
       "<div>\n",
       "<style>\n",
       "    .dataframe thead tr:only-child th {\n",
       "        text-align: right;\n",
       "    }\n",
       "\n",
       "    .dataframe thead th {\n",
       "        text-align: left;\n",
       "    }\n",
       "\n",
       "    .dataframe tbody tr th {\n",
       "        vertical-align: top;\n",
       "    }\n",
       "</style>\n",
       "<table border=\"1\" class=\"dataframe\">\n",
       "  <thead>\n",
       "    <tr style=\"text-align: right;\">\n",
       "      <th></th>\n",
       "      <th>SIP dialog length</th>\n",
       "    </tr>\n",
       "    <tr>\n",
       "      <th>Call-ID</th>\n",
       "      <th></th>\n",
       "    </tr>\n",
       "  </thead>\n",
       "  <tbody>\n",
       "    <tr>\n",
       "      <th>jBmWqALL6pT9S41NxQBCa8T3EnIRB804</th>\n",
       "      <td>894</td>\n",
       "    </tr>\n",
       "    <tr>\n",
       "      <th>048rN2cnemZKUxHm00YyB0s054OzVihn</th>\n",
       "      <td>802</td>\n",
       "    </tr>\n",
       "    <tr>\n",
       "      <th>1rYqZ35nJVFtQdeXv5q3rzaW7E2upgBA</th>\n",
       "      <td>732</td>\n",
       "    </tr>\n",
       "    <tr>\n",
       "      <th>MqcWlEWhEMpbCMekWbqzRXYX6H2sEBIC</th>\n",
       "      <td>730</td>\n",
       "    </tr>\n",
       "    <tr>\n",
       "      <th>BccbsyTThRWvh5bpkuJeLJE3JXemsihn</th>\n",
       "      <td>720</td>\n",
       "    </tr>\n",
       "  </tbody>\n",
       "</table>\n",
       "</div>"
      ],
      "text/plain": [
       "                                  SIP dialog length\n",
       "Call-ID                                            \n",
       "jBmWqALL6pT9S41NxQBCa8T3EnIRB804                894\n",
       "048rN2cnemZKUxHm00YyB0s054OzVihn                802\n",
       "1rYqZ35nJVFtQdeXv5q3rzaW7E2upgBA                732\n",
       "MqcWlEWhEMpbCMekWbqzRXYX6H2sEBIC                730\n",
       "BccbsyTThRWvh5bpkuJeLJE3JXemsihn                720"
      ]
     },
     "execution_count": 9,
     "metadata": {},
     "output_type": "execute_result"
    }
   ],
   "source": [
    "df_dialog_len.head()"
   ]
  },
  {
   "cell_type": "code",
   "execution_count": 10,
   "metadata": {},
   "outputs": [
    {
     "data": {
      "image/png": "[encoded data removed]",
      "text/plain": [
       "<Figure size 1440x432 with 1 Axes>"
      ]
     },
     "metadata": {},
     "output_type": "display_data"
    }
   ],
   "source": [
    "plot_data(df_dialog_len, 'SIP dialog length', 'log')"
   ]
  },
  {
   "cell_type": "code",
   "execution_count": 11,
   "metadata": {
    "collapsed": true
   },
   "outputs": [],
   "source": [
    "df_info_200OK = info_200OK_trans(sip_df)"
   ]
  },
  {
   "cell_type": "code",
   "execution_count": 12,
   "metadata": {
    "collapsed": true
   },
   "outputs": [],
   "source": [
    "df_info_rx_rrt = rx_info_tx_200OK_rrt(df_info_200OK)"
   ]
  },
  {
   "cell_type": "code",
   "execution_count": 13,
   "metadata": {},
   "outputs": [
    {
     "data": {
      "image/png": "[encoded data removed]",
      "text/plain": [
       "<Figure size 1440x432 with 1 Axes>"
      ]
     },
     "metadata": {},
     "output_type": "display_data"
    }
   ],
   "source": [
    "plot_data(df_info_rx_rrt, 'Req_Resp_Time', 'log')"
   ]
  },
  {
   "cell_type": "code",
   "execution_count": 14,
   "metadata": {
    "collapsed": true
   },
   "outputs": [],
   "source": [
    "df_info_200OK_rtr = retransmits_counter_tx(df_info_200OK, 'INFO')"
   ]
  },
  {
   "cell_type": "code",
   "execution_count": 15,
   "metadata": {
    "collapsed": true
   },
   "outputs": [],
   "source": [
    "df_info_200OK_tx = req_resp_time_tx(df_info_200OK, 'INFO-200OK')"
   ]
  },
  {
   "cell_type": "code",
   "execution_count": 16,
   "metadata": {},
   "outputs": [
    {
     "data": {
      "image/png": "[encoded data removed]",
      "text/plain": [
       "<Figure size 1440x432 with 1 Axes>"
      ]
     },
     "metadata": {},
     "output_type": "display_data"
    }
   ],
   "source": [
    "plot_data(df_info_200OK_tx[df_info_200OK_tx['Req_Resp_Time'] < 500], 'Req_Resp_Time', 'log')"
   ]
  },
  {
   "cell_type": "code",
   "execution_count": 17,
   "metadata": {
    "collapsed": true
   },
   "outputs": [],
   "source": [
    "df_invite_200OK = invite_200OK_trans(sip_df)"
   ]
  },
  {
   "cell_type": "code",
   "execution_count": 18,
   "metadata": {
    "collapsed": true
   },
   "outputs": [],
   "source": [
    "df_invite_200OK_rtr = retransmits_counter_tx(df_invite_200OK, 'INVITE')"
   ]
  },
  {
   "cell_type": "code",
   "execution_count": 19,
   "metadata": {
    "collapsed": true
   },
   "outputs": [],
   "source": [
    "df_invite_200OK_tx = req_resp_time_tx(df_invite_200OK, 'INVITE-200OK')"
   ]
  },
  {
   "cell_type": "code",
   "execution_count": 20,
   "metadata": {},
   "outputs": [
    {
     "data": {
      "image/png": "[encoded data removed]",
      "text/plain": [
       "<Figure size 1440x432 with 1 Axes>"
      ]
     },
     "metadata": {},
     "output_type": "display_data"
    }
   ],
   "source": [
    "plot_data(df_invite_200OK_tx[df_invite_200OK_tx['Req_Resp_Time'] < 500], 'Req_Resp_Time', 'log')"
   ]
  },
  {
   "cell_type": "code",
   "execution_count": 21,
   "metadata": {},
   "outputs": [
    {
     "data": {
      "text/plain": [
       "'0.28%'"
      ]
     },
     "execution_count": 21,
     "metadata": {},
     "output_type": "execute_result"
    }
   ],
   "source": [
    "retransmissions_percentage(df_info_200OK_rtr, df_info_200OK)"
   ]
  },
  {
   "cell_type": "code",
   "execution_count": 22,
   "metadata": {},
   "outputs": [
    {
     "data": {
      "text/plain": [
       "'0.76%'"
      ]
     },
     "execution_count": 22,
     "metadata": {},
     "output_type": "execute_result"
    }
   ],
   "source": [
    "retransmissions_percentage(df_invite_200OK_rtr, df_invite_200OK)"
   ]
  },
  {
   "cell_type": "code",
   "execution_count": null,
   "metadata": {},
   "outputs": [],
   "source": []
  }
 ],
 "metadata": {
  "kernelspec": {
   "display_name": "Python 3",
   "language": "python",
   "name": "python3"
  },
  "language_info": {
   "codemirror_mode": {
    "name": "ipython",
    "version": 3
   },
   "file_extension": ".py",
   "mimetype": "text/x-python",
   "name": "python",
   "nbconvert_exporter": "python",
   "pygments_lexer": "ipython3",
   "version": "3.6.8"
  }
 },
 "nbformat": 4,
 "nbformat_minor": 2
}
